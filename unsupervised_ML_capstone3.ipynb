{
 "cells": [
  {
   "attachments": {},
   "cell_type": "markdown",
   "metadata": {},
   "source": [
    "Dataset obtained from NCBI Gene Expression Omnibus:  https://www.ncbi.nlm.nih.gov/geo/query/acc.cgi?acc=GSE184635\n",
    "\n",
    "Title: Reprogramming of ovarian aging epigenome by resveratrol [RNA-seq]\n",
    "\n",
    "Summary: \tDepletion of oocytes and follicles and reduced oocyte quality contribute to age-associated ovarian senescence and infertility. Resveratrol acts as anti-oxidant and Sirt1 activator to alleviate aging including reproductive aging. It remains elusive whether resveratrol can reprogram the aging epigenome. We sought to examine aging ovarian epigenome and the potential effects of resveratrol by combined analysis of transcriptome and methylome mainly in oocytes and also in granulosa cells, two major cell types in the ovary."
   ]
  },
  {
   "attachments": {},
   "cell_type": "markdown",
   "metadata": {},
   "source": [
    "Objective: Cluster RNA-seq data in mice oocytes with/without resveratrol to examine its impact on the aging transcriptome"
   ]
  },
  {
   "cell_type": "code",
   "execution_count": 1,
   "metadata": {},
   "outputs": [
    {
     "name": "stderr",
     "output_type": "stream",
     "text": [
      "c:\\Users\\Kristin\\AppData\\Local\\Programs\\Python\\Python310\\lib\\site-packages\\umap\\distances.py:1063: NumbaDeprecationWarning: \u001b[1mThe 'nopython' keyword argument was not supplied to the 'numba.jit' decorator. The implicit default value for this argument is currently False, but it will be changed to True in Numba 0.59.0. See https://numba.readthedocs.io/en/stable/reference/deprecation.html#deprecation-of-object-mode-fall-back-behaviour-when-using-jit for details.\u001b[0m\n",
      "  @numba.jit()\n",
      "c:\\Users\\Kristin\\AppData\\Local\\Programs\\Python\\Python310\\lib\\site-packages\\umap\\distances.py:1071: NumbaDeprecationWarning: \u001b[1mThe 'nopython' keyword argument was not supplied to the 'numba.jit' decorator. The implicit default value for this argument is currently False, but it will be changed to True in Numba 0.59.0. See https://numba.readthedocs.io/en/stable/reference/deprecation.html#deprecation-of-object-mode-fall-back-behaviour-when-using-jit for details.\u001b[0m\n",
      "  @numba.jit()\n",
      "c:\\Users\\Kristin\\AppData\\Local\\Programs\\Python\\Python310\\lib\\site-packages\\umap\\distances.py:1086: NumbaDeprecationWarning: \u001b[1mThe 'nopython' keyword argument was not supplied to the 'numba.jit' decorator. The implicit default value for this argument is currently False, but it will be changed to True in Numba 0.59.0. See https://numba.readthedocs.io/en/stable/reference/deprecation.html#deprecation-of-object-mode-fall-back-behaviour-when-using-jit for details.\u001b[0m\n",
      "  @numba.jit()\n",
      "c:\\Users\\Kristin\\AppData\\Local\\Programs\\Python\\Python310\\lib\\site-packages\\umap\\umap_.py:660: NumbaDeprecationWarning: \u001b[1mThe 'nopython' keyword argument was not supplied to the 'numba.jit' decorator. The implicit default value for this argument is currently False, but it will be changed to True in Numba 0.59.0. See https://numba.readthedocs.io/en/stable/reference/deprecation.html#deprecation-of-object-mode-fall-back-behaviour-when-using-jit for details.\u001b[0m\n",
      "  @numba.jit()\n"
     ]
    }
   ],
   "source": [
    "import pandas as pd\n",
    "import numpy as np\n",
    "import matplotlib.pyplot as plt\n",
    "from sklearn import metrics\n",
    "from sklearn.cluster import KMeans\n",
    "from sklearn.preprocessing import StandardScaler\n",
    "from sklearn.decomposition import PCA\n",
    "from sklearn.cluster import DBSCAN, AgglomerativeClustering\n",
    "from scipy.cluster.hierarchy import dendrogram, linkage\n",
    "import re\n",
    "import umap\n",
    "from sklearn.model_selection import GridSearchCV, KFold\n",
    "import seaborn as sns\n",
    "from sklearn.mixture import GaussianMixture\n"
   ]
  },
  {
   "cell_type": "code",
   "execution_count": 2,
   "metadata": {},
   "outputs": [],
   "source": [
    "df = pd.read_csv(\"C:/Users/Kristin/Desktop/Thinkful/capstone3/GSE184635_RNAseq-counts-1.csv\")"
   ]
  },
  {
   "attachments": {},
   "cell_type": "markdown",
   "metadata": {},
   "source": [
    "Only select one cell type (oocyte) for this analysis, data obtained from granulosa cells (GCs) are removed."
   ]
  },
  {
   "cell_type": "code",
   "execution_count": 3,
   "metadata": {},
   "outputs": [],
   "source": [
    "# select only the columns(samples) from oocytes\n",
    "df_oo = df.loc[:, ~df.columns.str.startswith('GC_')]"
   ]
  },
  {
   "cell_type": "code",
   "execution_count": 4,
   "metadata": {},
   "outputs": [],
   "source": [
    "# select all the column names \n",
    "gp_columns = df_oo.columns[1:]"
   ]
  },
  {
   "attachments": {},
   "cell_type": "markdown",
   "metadata": {},
   "source": [
    "We are only interested in assessing the effects of resveratrol in wildtype (not geneticaly modified) mice. Hence, samples from knockout mice are also removed."
   ]
  },
  {
   "cell_type": "code",
   "execution_count": 5,
   "metadata": {},
   "outputs": [],
   "source": [
    "# remove samples from knockout animals\n",
    "columns_to_be_removed = []\n",
    "for column in gp_columns:\n",
    "    if 'KO' in str(column):\n",
    "        columns_to_be_removed.append(column)"
   ]
  },
  {
   "cell_type": "code",
   "execution_count": 6,
   "metadata": {},
   "outputs": [],
   "source": [
    "WT_oo_df = df_oo.drop(columns=columns_to_be_removed)"
   ]
  },
  {
   "cell_type": "code",
   "execution_count": 7,
   "metadata": {},
   "outputs": [],
   "source": [
    "wt_columns = WT_oo_df.columns[1:]"
   ]
  },
  {
   "attachments": {},
   "cell_type": "markdown",
   "metadata": {},
   "source": [
    "Add labels (Y-axis) to the dataset based on experimental conditions"
   ]
  },
  {
   "attachments": {},
   "cell_type": "markdown",
   "metadata": {},
   "source": [
    "Experiment design and abbreviations\n",
    "\"MWTC\"for middle-age(6-month-old) WT control group\n",
    "\"MWTR\"for middle-age(6-month-old) WT resveratrol treated group\n",
    "\"OWTC\"for old age(10-month-old) WT control group\n",
    "\"OWTR\"for old age(10-month-old) WT resveratrol treated group\n",
    "\"YWT\"for young(2-month-old) WT control group"
   ]
  },
  {
   "cell_type": "code",
   "execution_count": 8,
   "metadata": {},
   "outputs": [],
   "source": [
    "age_dict = {\n",
    "     'MWTC': 1,\n",
    "     'MWTR': 2,\n",
    "     'OWTC': 3,\n",
    "     'OWTR': 4,\n",
    "     'YWT': 0\n",
    "}"
   ]
  },
  {
   "cell_type": "code",
   "execution_count": 9,
   "metadata": {},
   "outputs": [],
   "source": [
    "# extract the string in the sample ID to classify mice based on 1) age: young (2mo), middle-aged (6mo) and old (10mo)\n",
    "# and 2) resveratrol treatment\n",
    "age_groups = []\n",
    "for column in wt_columns:\n",
    "    age = re.match(r'(\\D+)', column).group()\n",
    "    age_groups.append(age)"
   ]
  },
  {
   "cell_type": "code",
   "execution_count": 10,
   "metadata": {},
   "outputs": [],
   "source": [
    "# add age row to the dataframe\n",
    "row_w_age = pd.DataFrame([age_groups], columns= WT_oo_df.columns[1:])\n",
    "\n",
    "WT_oo_df = pd.concat([WT_oo_df, row_w_age], ignore_index=True)"
   ]
  },
  {
   "cell_type": "code",
   "execution_count": 11,
   "metadata": {},
   "outputs": [],
   "source": [
    "# relabel the age row based on \"age dict\"\n",
    "last_row = WT_oo_df.index[-1]\n",
    "for column in WT_oo_df.columns[1:]:\n",
    "    WT_oo_df.loc[last_row, column] = age_dict.get(WT_oo_df.loc[last_row, column], WT_oo_df.loc[last_row, column])"
   ]
  },
  {
   "cell_type": "code",
   "execution_count": 12,
   "metadata": {},
   "outputs": [
    {
     "data": {
      "text/html": [
       "<div>\n",
       "<style scoped>\n",
       "    .dataframe tbody tr th:only-of-type {\n",
       "        vertical-align: middle;\n",
       "    }\n",
       "\n",
       "    .dataframe tbody tr th {\n",
       "        vertical-align: top;\n",
       "    }\n",
       "\n",
       "    .dataframe thead th {\n",
       "        text-align: right;\n",
       "    }\n",
       "</style>\n",
       "<table border=\"1\" class=\"dataframe\">\n",
       "  <thead>\n",
       "    <tr style=\"text-align: right;\">\n",
       "      <th></th>\n",
       "      <th>Unnamed: 0</th>\n",
       "      <th>YWT1.10</th>\n",
       "      <th>YWT1.11</th>\n",
       "      <th>YWT1.12</th>\n",
       "      <th>YWT1.1</th>\n",
       "      <th>YWT1.2</th>\n",
       "      <th>YWT1.3</th>\n",
       "      <th>YWT1.4</th>\n",
       "      <th>YWT1.5</th>\n",
       "      <th>YWT1.6</th>\n",
       "      <th>...</th>\n",
       "      <th>OWTC1.11</th>\n",
       "      <th>OWTC2.1</th>\n",
       "      <th>OWTC2.2</th>\n",
       "      <th>OWTC2.3</th>\n",
       "      <th>OWTC2.4</th>\n",
       "      <th>OWTC2.5</th>\n",
       "      <th>OWTC2.6</th>\n",
       "      <th>OWTC2.7</th>\n",
       "      <th>OWTC2.8</th>\n",
       "      <th>OWTC2.9</th>\n",
       "    </tr>\n",
       "  </thead>\n",
       "  <tbody>\n",
       "    <tr>\n",
       "      <th>0</th>\n",
       "      <td>Gnai3</td>\n",
       "      <td>1464</td>\n",
       "      <td>1476</td>\n",
       "      <td>1399</td>\n",
       "      <td>2015</td>\n",
       "      <td>1970</td>\n",
       "      <td>1155</td>\n",
       "      <td>1461</td>\n",
       "      <td>1871</td>\n",
       "      <td>1790</td>\n",
       "      <td>...</td>\n",
       "      <td>1516</td>\n",
       "      <td>1103</td>\n",
       "      <td>1051</td>\n",
       "      <td>870</td>\n",
       "      <td>1543</td>\n",
       "      <td>1055</td>\n",
       "      <td>1038</td>\n",
       "      <td>1113</td>\n",
       "      <td>1101</td>\n",
       "      <td>1093</td>\n",
       "    </tr>\n",
       "    <tr>\n",
       "      <th>1</th>\n",
       "      <td>Pbsn</td>\n",
       "      <td>0</td>\n",
       "      <td>0</td>\n",
       "      <td>0</td>\n",
       "      <td>0</td>\n",
       "      <td>0</td>\n",
       "      <td>0</td>\n",
       "      <td>0</td>\n",
       "      <td>0</td>\n",
       "      <td>0</td>\n",
       "      <td>...</td>\n",
       "      <td>0</td>\n",
       "      <td>0</td>\n",
       "      <td>0</td>\n",
       "      <td>0</td>\n",
       "      <td>0</td>\n",
       "      <td>0</td>\n",
       "      <td>0</td>\n",
       "      <td>0</td>\n",
       "      <td>0</td>\n",
       "      <td>0</td>\n",
       "    </tr>\n",
       "    <tr>\n",
       "      <th>2</th>\n",
       "      <td>Cdc45</td>\n",
       "      <td>531</td>\n",
       "      <td>575</td>\n",
       "      <td>504</td>\n",
       "      <td>673</td>\n",
       "      <td>493</td>\n",
       "      <td>437</td>\n",
       "      <td>452</td>\n",
       "      <td>574</td>\n",
       "      <td>505</td>\n",
       "      <td>...</td>\n",
       "      <td>644</td>\n",
       "      <td>519</td>\n",
       "      <td>599</td>\n",
       "      <td>494</td>\n",
       "      <td>716</td>\n",
       "      <td>596</td>\n",
       "      <td>486</td>\n",
       "      <td>416</td>\n",
       "      <td>505</td>\n",
       "      <td>583</td>\n",
       "    </tr>\n",
       "    <tr>\n",
       "      <th>3</th>\n",
       "      <td>H19</td>\n",
       "      <td>0</td>\n",
       "      <td>0</td>\n",
       "      <td>0</td>\n",
       "      <td>0</td>\n",
       "      <td>0</td>\n",
       "      <td>0</td>\n",
       "      <td>0</td>\n",
       "      <td>0</td>\n",
       "      <td>0</td>\n",
       "      <td>...</td>\n",
       "      <td>0</td>\n",
       "      <td>0</td>\n",
       "      <td>0</td>\n",
       "      <td>0</td>\n",
       "      <td>0</td>\n",
       "      <td>0</td>\n",
       "      <td>0</td>\n",
       "      <td>0</td>\n",
       "      <td>0</td>\n",
       "      <td>0</td>\n",
       "    </tr>\n",
       "    <tr>\n",
       "      <th>4</th>\n",
       "      <td>Scml2</td>\n",
       "      <td>1035</td>\n",
       "      <td>890</td>\n",
       "      <td>1083</td>\n",
       "      <td>1198</td>\n",
       "      <td>955</td>\n",
       "      <td>808</td>\n",
       "      <td>852</td>\n",
       "      <td>1162</td>\n",
       "      <td>1098</td>\n",
       "      <td>...</td>\n",
       "      <td>712</td>\n",
       "      <td>907</td>\n",
       "      <td>1259</td>\n",
       "      <td>1168</td>\n",
       "      <td>1023</td>\n",
       "      <td>1222</td>\n",
       "      <td>1053</td>\n",
       "      <td>869</td>\n",
       "      <td>891</td>\n",
       "      <td>1299</td>\n",
       "    </tr>\n",
       "    <tr>\n",
       "      <th>...</th>\n",
       "      <td>...</td>\n",
       "      <td>...</td>\n",
       "      <td>...</td>\n",
       "      <td>...</td>\n",
       "      <td>...</td>\n",
       "      <td>...</td>\n",
       "      <td>...</td>\n",
       "      <td>...</td>\n",
       "      <td>...</td>\n",
       "      <td>...</td>\n",
       "      <td>...</td>\n",
       "      <td>...</td>\n",
       "      <td>...</td>\n",
       "      <td>...</td>\n",
       "      <td>...</td>\n",
       "      <td>...</td>\n",
       "      <td>...</td>\n",
       "      <td>...</td>\n",
       "      <td>...</td>\n",
       "      <td>...</td>\n",
       "      <td>...</td>\n",
       "    </tr>\n",
       "    <tr>\n",
       "      <th>53615</th>\n",
       "      <td>RP23-125E11.1</td>\n",
       "      <td>1</td>\n",
       "      <td>0</td>\n",
       "      <td>0</td>\n",
       "      <td>0</td>\n",
       "      <td>0</td>\n",
       "      <td>0</td>\n",
       "      <td>0</td>\n",
       "      <td>0</td>\n",
       "      <td>0</td>\n",
       "      <td>...</td>\n",
       "      <td>0</td>\n",
       "      <td>0</td>\n",
       "      <td>0</td>\n",
       "      <td>1</td>\n",
       "      <td>0</td>\n",
       "      <td>0</td>\n",
       "      <td>1</td>\n",
       "      <td>0</td>\n",
       "      <td>0</td>\n",
       "      <td>4</td>\n",
       "    </tr>\n",
       "    <tr>\n",
       "      <th>53616</th>\n",
       "      <td>RP24-167O15.2</td>\n",
       "      <td>0</td>\n",
       "      <td>0</td>\n",
       "      <td>0</td>\n",
       "      <td>0</td>\n",
       "      <td>0</td>\n",
       "      <td>0</td>\n",
       "      <td>0</td>\n",
       "      <td>0</td>\n",
       "      <td>0</td>\n",
       "      <td>...</td>\n",
       "      <td>0</td>\n",
       "      <td>0</td>\n",
       "      <td>0</td>\n",
       "      <td>0</td>\n",
       "      <td>0</td>\n",
       "      <td>0</td>\n",
       "      <td>0</td>\n",
       "      <td>0</td>\n",
       "      <td>0</td>\n",
       "      <td>0</td>\n",
       "    </tr>\n",
       "    <tr>\n",
       "      <th>53617</th>\n",
       "      <td>RP24-97D3.1</td>\n",
       "      <td>2</td>\n",
       "      <td>0</td>\n",
       "      <td>4</td>\n",
       "      <td>0</td>\n",
       "      <td>0</td>\n",
       "      <td>0</td>\n",
       "      <td>0</td>\n",
       "      <td>2</td>\n",
       "      <td>1</td>\n",
       "      <td>...</td>\n",
       "      <td>0</td>\n",
       "      <td>1</td>\n",
       "      <td>0</td>\n",
       "      <td>0</td>\n",
       "      <td>0</td>\n",
       "      <td>0</td>\n",
       "      <td>0</td>\n",
       "      <td>0</td>\n",
       "      <td>0</td>\n",
       "      <td>0</td>\n",
       "    </tr>\n",
       "    <tr>\n",
       "      <th>53618</th>\n",
       "      <td>RP23-171L7.4</td>\n",
       "      <td>0</td>\n",
       "      <td>0</td>\n",
       "      <td>0</td>\n",
       "      <td>0</td>\n",
       "      <td>0</td>\n",
       "      <td>0</td>\n",
       "      <td>0</td>\n",
       "      <td>0</td>\n",
       "      <td>0</td>\n",
       "      <td>...</td>\n",
       "      <td>0</td>\n",
       "      <td>0</td>\n",
       "      <td>0</td>\n",
       "      <td>0</td>\n",
       "      <td>0</td>\n",
       "      <td>0</td>\n",
       "      <td>0</td>\n",
       "      <td>0</td>\n",
       "      <td>0</td>\n",
       "      <td>0</td>\n",
       "    </tr>\n",
       "    <tr>\n",
       "      <th>53619</th>\n",
       "      <td>NaN</td>\n",
       "      <td>0</td>\n",
       "      <td>0</td>\n",
       "      <td>0</td>\n",
       "      <td>0</td>\n",
       "      <td>0</td>\n",
       "      <td>0</td>\n",
       "      <td>0</td>\n",
       "      <td>0</td>\n",
       "      <td>0</td>\n",
       "      <td>...</td>\n",
       "      <td>3</td>\n",
       "      <td>3</td>\n",
       "      <td>3</td>\n",
       "      <td>3</td>\n",
       "      <td>3</td>\n",
       "      <td>3</td>\n",
       "      <td>3</td>\n",
       "      <td>3</td>\n",
       "      <td>3</td>\n",
       "      <td>3</td>\n",
       "    </tr>\n",
       "  </tbody>\n",
       "</table>\n",
       "<p>53620 rows × 87 columns</p>\n",
       "</div>"
      ],
      "text/plain": [
       "          Unnamed: 0 YWT1.10 YWT1.11 YWT1.12 YWT1.1 YWT1.2 YWT1.3 YWT1.4  \\\n",
       "0              Gnai3    1464    1476    1399   2015   1970   1155   1461   \n",
       "1               Pbsn       0       0       0      0      0      0      0   \n",
       "2              Cdc45     531     575     504    673    493    437    452   \n",
       "3                H19       0       0       0      0      0      0      0   \n",
       "4              Scml2    1035     890    1083   1198    955    808    852   \n",
       "...              ...     ...     ...     ...    ...    ...    ...    ...   \n",
       "53615  RP23-125E11.1       1       0       0      0      0      0      0   \n",
       "53616  RP24-167O15.2       0       0       0      0      0      0      0   \n",
       "53617    RP24-97D3.1       2       0       4      0      0      0      0   \n",
       "53618   RP23-171L7.4       0       0       0      0      0      0      0   \n",
       "53619            NaN       0       0       0      0      0      0      0   \n",
       "\n",
       "      YWT1.5 YWT1.6  ... OWTC1.11 OWTC2.1 OWTC2.2 OWTC2.3 OWTC2.4 OWTC2.5  \\\n",
       "0       1871   1790  ...     1516    1103    1051     870    1543    1055   \n",
       "1          0      0  ...        0       0       0       0       0       0   \n",
       "2        574    505  ...      644     519     599     494     716     596   \n",
       "3          0      0  ...        0       0       0       0       0       0   \n",
       "4       1162   1098  ...      712     907    1259    1168    1023    1222   \n",
       "...      ...    ...  ...      ...     ...     ...     ...     ...     ...   \n",
       "53615      0      0  ...        0       0       0       1       0       0   \n",
       "53616      0      0  ...        0       0       0       0       0       0   \n",
       "53617      2      1  ...        0       1       0       0       0       0   \n",
       "53618      0      0  ...        0       0       0       0       0       0   \n",
       "53619      0      0  ...        3       3       3       3       3       3   \n",
       "\n",
       "      OWTC2.6 OWTC2.7 OWTC2.8 OWTC2.9  \n",
       "0        1038    1113    1101    1093  \n",
       "1           0       0       0       0  \n",
       "2         486     416     505     583  \n",
       "3           0       0       0       0  \n",
       "4        1053     869     891    1299  \n",
       "...       ...     ...     ...     ...  \n",
       "53615       1       0       0       4  \n",
       "53616       0       0       0       0  \n",
       "53617       0       0       0       0  \n",
       "53618       0       0       0       0  \n",
       "53619       3       3       3       3  \n",
       "\n",
       "[53620 rows x 87 columns]"
      ]
     },
     "execution_count": 12,
     "metadata": {},
     "output_type": "execute_result"
    }
   ],
   "source": [
    "WT_oo_df"
   ]
  },
  {
   "cell_type": "code",
   "execution_count": 13,
   "metadata": {},
   "outputs": [],
   "source": [
    "# transform the dataframe so the samples become rows and gene become features\n",
    "WT_oo_T = WT_oo_df.T"
   ]
  },
  {
   "cell_type": "code",
   "execution_count": 14,
   "metadata": {},
   "outputs": [],
   "source": [
    "# name the age column as Y\n",
    "WT_oo_T.iloc[0,-1] = \"Y\""
   ]
  },
  {
   "cell_type": "code",
   "execution_count": 15,
   "metadata": {},
   "outputs": [
    {
     "data": {
      "text/html": [
       "<div>\n",
       "<style scoped>\n",
       "    .dataframe tbody tr th:only-of-type {\n",
       "        vertical-align: middle;\n",
       "    }\n",
       "\n",
       "    .dataframe tbody tr th {\n",
       "        vertical-align: top;\n",
       "    }\n",
       "\n",
       "    .dataframe thead th {\n",
       "        text-align: right;\n",
       "    }\n",
       "</style>\n",
       "<table border=\"1\" class=\"dataframe\">\n",
       "  <thead>\n",
       "    <tr style=\"text-align: right;\">\n",
       "      <th></th>\n",
       "      <th>0</th>\n",
       "      <th>1</th>\n",
       "      <th>2</th>\n",
       "      <th>3</th>\n",
       "      <th>4</th>\n",
       "      <th>5</th>\n",
       "      <th>6</th>\n",
       "      <th>7</th>\n",
       "      <th>8</th>\n",
       "      <th>9</th>\n",
       "      <th>...</th>\n",
       "      <th>53610</th>\n",
       "      <th>53611</th>\n",
       "      <th>53612</th>\n",
       "      <th>53613</th>\n",
       "      <th>53614</th>\n",
       "      <th>53615</th>\n",
       "      <th>53616</th>\n",
       "      <th>53617</th>\n",
       "      <th>53618</th>\n",
       "      <th>53619</th>\n",
       "    </tr>\n",
       "  </thead>\n",
       "  <tbody>\n",
       "    <tr>\n",
       "      <th>Unnamed: 0</th>\n",
       "      <td>Gnai3</td>\n",
       "      <td>Pbsn</td>\n",
       "      <td>Cdc45</td>\n",
       "      <td>H19</td>\n",
       "      <td>Scml2</td>\n",
       "      <td>Apoh</td>\n",
       "      <td>Narf</td>\n",
       "      <td>Cav2</td>\n",
       "      <td>Klf6</td>\n",
       "      <td>Scmh1</td>\n",
       "      <td>...</td>\n",
       "      <td>RP23-25N17.6</td>\n",
       "      <td>RP24-261L5.4</td>\n",
       "      <td>RP24-216B4.6</td>\n",
       "      <td>RP23-32P19.4</td>\n",
       "      <td>RP23-459E13.2</td>\n",
       "      <td>RP23-125E11.1</td>\n",
       "      <td>RP24-167O15.2</td>\n",
       "      <td>RP24-97D3.1</td>\n",
       "      <td>RP23-171L7.4</td>\n",
       "      <td>Y</td>\n",
       "    </tr>\n",
       "    <tr>\n",
       "      <th>YWT1.10</th>\n",
       "      <td>1464</td>\n",
       "      <td>0</td>\n",
       "      <td>531</td>\n",
       "      <td>0</td>\n",
       "      <td>1035</td>\n",
       "      <td>0</td>\n",
       "      <td>82</td>\n",
       "      <td>0</td>\n",
       "      <td>1</td>\n",
       "      <td>276</td>\n",
       "      <td>...</td>\n",
       "      <td>98</td>\n",
       "      <td>0</td>\n",
       "      <td>0</td>\n",
       "      <td>0</td>\n",
       "      <td>78</td>\n",
       "      <td>1</td>\n",
       "      <td>0</td>\n",
       "      <td>2</td>\n",
       "      <td>0</td>\n",
       "      <td>0</td>\n",
       "    </tr>\n",
       "    <tr>\n",
       "      <th>YWT1.11</th>\n",
       "      <td>1476</td>\n",
       "      <td>0</td>\n",
       "      <td>575</td>\n",
       "      <td>0</td>\n",
       "      <td>890</td>\n",
       "      <td>0</td>\n",
       "      <td>46</td>\n",
       "      <td>0</td>\n",
       "      <td>6</td>\n",
       "      <td>254</td>\n",
       "      <td>...</td>\n",
       "      <td>120</td>\n",
       "      <td>0</td>\n",
       "      <td>0</td>\n",
       "      <td>0</td>\n",
       "      <td>41</td>\n",
       "      <td>0</td>\n",
       "      <td>0</td>\n",
       "      <td>0</td>\n",
       "      <td>0</td>\n",
       "      <td>0</td>\n",
       "    </tr>\n",
       "    <tr>\n",
       "      <th>YWT1.12</th>\n",
       "      <td>1399</td>\n",
       "      <td>0</td>\n",
       "      <td>504</td>\n",
       "      <td>0</td>\n",
       "      <td>1083</td>\n",
       "      <td>3</td>\n",
       "      <td>48</td>\n",
       "      <td>0</td>\n",
       "      <td>1</td>\n",
       "      <td>269</td>\n",
       "      <td>...</td>\n",
       "      <td>89</td>\n",
       "      <td>0</td>\n",
       "      <td>0</td>\n",
       "      <td>0</td>\n",
       "      <td>39</td>\n",
       "      <td>0</td>\n",
       "      <td>0</td>\n",
       "      <td>4</td>\n",
       "      <td>0</td>\n",
       "      <td>0</td>\n",
       "    </tr>\n",
       "    <tr>\n",
       "      <th>YWT1.1</th>\n",
       "      <td>2015</td>\n",
       "      <td>0</td>\n",
       "      <td>673</td>\n",
       "      <td>0</td>\n",
       "      <td>1198</td>\n",
       "      <td>1</td>\n",
       "      <td>75</td>\n",
       "      <td>0</td>\n",
       "      <td>0</td>\n",
       "      <td>212</td>\n",
       "      <td>...</td>\n",
       "      <td>77</td>\n",
       "      <td>0</td>\n",
       "      <td>0</td>\n",
       "      <td>0</td>\n",
       "      <td>76</td>\n",
       "      <td>0</td>\n",
       "      <td>0</td>\n",
       "      <td>0</td>\n",
       "      <td>0</td>\n",
       "      <td>0</td>\n",
       "    </tr>\n",
       "    <tr>\n",
       "      <th>...</th>\n",
       "      <td>...</td>\n",
       "      <td>...</td>\n",
       "      <td>...</td>\n",
       "      <td>...</td>\n",
       "      <td>...</td>\n",
       "      <td>...</td>\n",
       "      <td>...</td>\n",
       "      <td>...</td>\n",
       "      <td>...</td>\n",
       "      <td>...</td>\n",
       "      <td>...</td>\n",
       "      <td>...</td>\n",
       "      <td>...</td>\n",
       "      <td>...</td>\n",
       "      <td>...</td>\n",
       "      <td>...</td>\n",
       "      <td>...</td>\n",
       "      <td>...</td>\n",
       "      <td>...</td>\n",
       "      <td>...</td>\n",
       "      <td>...</td>\n",
       "    </tr>\n",
       "    <tr>\n",
       "      <th>OWTC2.5</th>\n",
       "      <td>1055</td>\n",
       "      <td>0</td>\n",
       "      <td>596</td>\n",
       "      <td>0</td>\n",
       "      <td>1222</td>\n",
       "      <td>0</td>\n",
       "      <td>66</td>\n",
       "      <td>0</td>\n",
       "      <td>20</td>\n",
       "      <td>474</td>\n",
       "      <td>...</td>\n",
       "      <td>59</td>\n",
       "      <td>0</td>\n",
       "      <td>0</td>\n",
       "      <td>0</td>\n",
       "      <td>27</td>\n",
       "      <td>0</td>\n",
       "      <td>0</td>\n",
       "      <td>0</td>\n",
       "      <td>0</td>\n",
       "      <td>3</td>\n",
       "    </tr>\n",
       "    <tr>\n",
       "      <th>OWTC2.6</th>\n",
       "      <td>1038</td>\n",
       "      <td>0</td>\n",
       "      <td>486</td>\n",
       "      <td>0</td>\n",
       "      <td>1053</td>\n",
       "      <td>0</td>\n",
       "      <td>67</td>\n",
       "      <td>0</td>\n",
       "      <td>6</td>\n",
       "      <td>357</td>\n",
       "      <td>...</td>\n",
       "      <td>109</td>\n",
       "      <td>0</td>\n",
       "      <td>0</td>\n",
       "      <td>0</td>\n",
       "      <td>39</td>\n",
       "      <td>1</td>\n",
       "      <td>0</td>\n",
       "      <td>0</td>\n",
       "      <td>0</td>\n",
       "      <td>3</td>\n",
       "    </tr>\n",
       "    <tr>\n",
       "      <th>OWTC2.7</th>\n",
       "      <td>1113</td>\n",
       "      <td>0</td>\n",
       "      <td>416</td>\n",
       "      <td>0</td>\n",
       "      <td>869</td>\n",
       "      <td>0</td>\n",
       "      <td>44</td>\n",
       "      <td>0</td>\n",
       "      <td>2</td>\n",
       "      <td>277</td>\n",
       "      <td>...</td>\n",
       "      <td>111</td>\n",
       "      <td>0</td>\n",
       "      <td>0</td>\n",
       "      <td>3</td>\n",
       "      <td>34</td>\n",
       "      <td>0</td>\n",
       "      <td>0</td>\n",
       "      <td>0</td>\n",
       "      <td>0</td>\n",
       "      <td>3</td>\n",
       "    </tr>\n",
       "    <tr>\n",
       "      <th>OWTC2.8</th>\n",
       "      <td>1101</td>\n",
       "      <td>0</td>\n",
       "      <td>505</td>\n",
       "      <td>0</td>\n",
       "      <td>891</td>\n",
       "      <td>0</td>\n",
       "      <td>46</td>\n",
       "      <td>0</td>\n",
       "      <td>0</td>\n",
       "      <td>370</td>\n",
       "      <td>...</td>\n",
       "      <td>137</td>\n",
       "      <td>0</td>\n",
       "      <td>0</td>\n",
       "      <td>0</td>\n",
       "      <td>34</td>\n",
       "      <td>0</td>\n",
       "      <td>0</td>\n",
       "      <td>0</td>\n",
       "      <td>0</td>\n",
       "      <td>3</td>\n",
       "    </tr>\n",
       "    <tr>\n",
       "      <th>OWTC2.9</th>\n",
       "      <td>1093</td>\n",
       "      <td>0</td>\n",
       "      <td>583</td>\n",
       "      <td>0</td>\n",
       "      <td>1299</td>\n",
       "      <td>1</td>\n",
       "      <td>29</td>\n",
       "      <td>0</td>\n",
       "      <td>1</td>\n",
       "      <td>249</td>\n",
       "      <td>...</td>\n",
       "      <td>83</td>\n",
       "      <td>0</td>\n",
       "      <td>0</td>\n",
       "      <td>0</td>\n",
       "      <td>63</td>\n",
       "      <td>4</td>\n",
       "      <td>0</td>\n",
       "      <td>0</td>\n",
       "      <td>0</td>\n",
       "      <td>3</td>\n",
       "    </tr>\n",
       "  </tbody>\n",
       "</table>\n",
       "<p>87 rows × 53620 columns</p>\n",
       "</div>"
      ],
      "text/plain": [
       "            0     1      2     3      4     5     6     7     8      9      \\\n",
       "Unnamed: 0  Gnai3  Pbsn  Cdc45   H19  Scml2  Apoh  Narf  Cav2  Klf6  Scmh1   \n",
       "YWT1.10      1464     0    531     0   1035     0    82     0     1    276   \n",
       "YWT1.11      1476     0    575     0    890     0    46     0     6    254   \n",
       "YWT1.12      1399     0    504     0   1083     3    48     0     1    269   \n",
       "YWT1.1       2015     0    673     0   1198     1    75     0     0    212   \n",
       "...           ...   ...    ...   ...    ...   ...   ...   ...   ...    ...   \n",
       "OWTC2.5      1055     0    596     0   1222     0    66     0    20    474   \n",
       "OWTC2.6      1038     0    486     0   1053     0    67     0     6    357   \n",
       "OWTC2.7      1113     0    416     0    869     0    44     0     2    277   \n",
       "OWTC2.8      1101     0    505     0    891     0    46     0     0    370   \n",
       "OWTC2.9      1093     0    583     0   1299     1    29     0     1    249   \n",
       "\n",
       "            ...         53610         53611         53612         53613  \\\n",
       "Unnamed: 0  ...  RP23-25N17.6  RP24-261L5.4  RP24-216B4.6  RP23-32P19.4   \n",
       "YWT1.10     ...            98             0             0             0   \n",
       "YWT1.11     ...           120             0             0             0   \n",
       "YWT1.12     ...            89             0             0             0   \n",
       "YWT1.1      ...            77             0             0             0   \n",
       "...         ...           ...           ...           ...           ...   \n",
       "OWTC2.5     ...            59             0             0             0   \n",
       "OWTC2.6     ...           109             0             0             0   \n",
       "OWTC2.7     ...           111             0             0             3   \n",
       "OWTC2.8     ...           137             0             0             0   \n",
       "OWTC2.9     ...            83             0             0             0   \n",
       "\n",
       "                    53614          53615          53616        53617  \\\n",
       "Unnamed: 0  RP23-459E13.2  RP23-125E11.1  RP24-167O15.2  RP24-97D3.1   \n",
       "YWT1.10                78              1              0            2   \n",
       "YWT1.11                41              0              0            0   \n",
       "YWT1.12                39              0              0            4   \n",
       "YWT1.1                 76              0              0            0   \n",
       "...                   ...            ...            ...          ...   \n",
       "OWTC2.5                27              0              0            0   \n",
       "OWTC2.6                39              1              0            0   \n",
       "OWTC2.7                34              0              0            0   \n",
       "OWTC2.8                34              0              0            0   \n",
       "OWTC2.9                63              4              0            0   \n",
       "\n",
       "                   53618 53619  \n",
       "Unnamed: 0  RP23-171L7.4     Y  \n",
       "YWT1.10                0     0  \n",
       "YWT1.11                0     0  \n",
       "YWT1.12                0     0  \n",
       "YWT1.1                 0     0  \n",
       "...                  ...   ...  \n",
       "OWTC2.5                0     3  \n",
       "OWTC2.6                0     3  \n",
       "OWTC2.7                0     3  \n",
       "OWTC2.8                0     3  \n",
       "OWTC2.9                0     3  \n",
       "\n",
       "[87 rows x 53620 columns]"
      ]
     },
     "execution_count": 15,
     "metadata": {},
     "output_type": "execute_result"
    }
   ],
   "source": [
    "WT_oo_T"
   ]
  },
  {
   "cell_type": "code",
   "execution_count": 16,
   "metadata": {},
   "outputs": [
    {
     "data": {
      "text/plain": [
       "array([0, 0, 0, 0, 0, 0, 0, 0, 0, 0, 0, 0, 0, 0, 0, 0, 0, 0, 2, 2, 2, 2,\n",
       "       2, 2, 2, 2, 2, 2, 2, 2, 2, 2, 1, 1, 1, 1, 1, 1, 1, 1, 1, 1, 1, 1,\n",
       "       1, 1, 1, 1, 1, 1, 1, 1, 4, 4, 4, 4, 4, 4, 4, 4, 4, 4, 4, 4, 4, 4,\n",
       "       3, 3, 3, 3, 3, 3, 3, 3, 3, 3, 3, 3, 3, 3, 3, 3, 3, 3, 3, 3],\n",
       "      dtype=object)"
      ]
     },
     "execution_count": 16,
     "metadata": {},
     "output_type": "execute_result"
    }
   ],
   "source": [
    "WT_oo_T.iloc[1:, -1].values # .iloc[] returns a dataframe and .values returns an array"
   ]
  },
  {
   "cell_type": "code",
   "execution_count": 17,
   "metadata": {},
   "outputs": [],
   "source": [
    "X = WT_oo_T.iloc[1:, :-1].values\n",
    "Y = WT_oo_T.iloc[1:, -1].values"
   ]
  },
  {
   "cell_type": "code",
   "execution_count": 18,
   "metadata": {},
   "outputs": [],
   "source": [
    "scaler = StandardScaler()\n",
    "\n",
    "X_std = scaler.fit_transform(X)"
   ]
  },
  {
   "cell_type": "code",
   "execution_count": 19,
   "metadata": {},
   "outputs": [],
   "source": [
    "# dimensionality reduction method 1\n",
    "pca = PCA(n_components=2)\n",
    "pca_components = pca.fit_transform(X_std)"
   ]
  },
  {
   "cell_type": "code",
   "execution_count": 20,
   "metadata": {},
   "outputs": [],
   "source": [
    "# dimensionality reduction method 2\n",
    "reducer = umap.UMAP(\n",
    "    n_neighbors=12,\n",
    "    min_dist=0.2\n",
    ")\n",
    "embedding = reducer.fit_transform(X_std)"
   ]
  },
  {
   "cell_type": "code",
   "execution_count": 21,
   "metadata": {},
   "outputs": [
    {
     "data": {
      "text/plain": [
       "Text(0.5, 1.0, 'dimension reduction -- PCA')"
      ]
     },
     "execution_count": 21,
     "metadata": {},
     "output_type": "execute_result"
    },
    {
     "data": {
      "image/png": "[encoded data removed]",
      "text/plain": [
       "<Figure size 432x288 with 1 Axes>"
      ]
     },
     "metadata": {
      "needs_background": "light"
     },
     "output_type": "display_data"
    }
   ],
   "source": [
    "# visualization -- PCA\n",
    "plt.scatter(\n",
    "    pca_components[:, 0],\n",
    "    pca_components[:,1],\n",
    "    c= [sns.color_palette()[identifier] for identifier in Y]\n",
    "    )\n",
    "plt.xlabel('PC1')\n",
    "plt.ylabel('PC2')\n",
    "plt.title('dimension reduction -- PCA')"
   ]
  },
  {
   "cell_type": "code",
   "execution_count": 22,
   "metadata": {},
   "outputs": [
    {
     "data": {
      "text/plain": [
       "<matplotlib.legend.Legend at 0x23a8baaa830>"
      ]
     },
     "execution_count": 22,
     "metadata": {},
     "output_type": "execute_result"
    },
    {
     "data": {
      "image/png": "[encoded data removed]",
      "text/plain": [
       "<Figure size 720x360 with 1 Axes>"
      ]
     },
     "metadata": {
      "needs_background": "light"
     },
     "output_type": "display_data"
    }
   ],
   "source": [
    "plt.figure(figsize=(10,5))\n",
    "scatter = plt.scatter(\n",
    "    embedding[:, 0],\n",
    "    embedding[:,1],\n",
    "    c=Y,\n",
    "    cmap='viridis'\n",
    "    )\n",
    "plt.xlabel('PC1')\n",
    "plt.ylabel('PC2')\n",
    "plt.title('dimension reduction -- UMAP')\n",
    "\n",
    "# Create a legend\n",
    "legend_labels = ['YWT', 'MWTC', 'MWTR', 'OWTC', 'OWTR']  # Replace with actual labels corresponding to Y array\n",
    "plt.legend(handles=scatter.legend_elements()[0], labels=legend_labels, title='Legend')\n"
   ]
  },
  {
   "cell_type": "code",
   "execution_count": 23,
   "metadata": {},
   "outputs": [
    {
     "name": "stderr",
     "output_type": "stream",
     "text": [
      "c:\\Users\\Kristin\\AppData\\Local\\Programs\\Python\\Python310\\lib\\site-packages\\sklearn\\cluster\\_kmeans.py:870: FutureWarning: The default value of `n_init` will change from 10 to 'auto' in 1.4. Set the value of `n_init` explicitly to suppress the warning\n",
      "  warnings.warn(\n"
     ]
    }
   ],
   "source": [
    "# clustering with KMeans using pca dimension reduced input data\n",
    "k_means = KMeans(n_clusters=5)\n",
    "k_means.fit(pca_components)\n",
    "pca_clusters = k_means.predict(pca_components)"
   ]
  },
  {
   "cell_type": "code",
   "execution_count": 24,
   "metadata": {},
   "outputs": [
    {
     "name": "stderr",
     "output_type": "stream",
     "text": [
      "c:\\Users\\Kristin\\AppData\\Local\\Programs\\Python\\Python310\\lib\\site-packages\\sklearn\\cluster\\_kmeans.py:870: FutureWarning: The default value of `n_init` will change from 10 to 'auto' in 1.4. Set the value of `n_init` explicitly to suppress the warning\n",
      "  warnings.warn(\n"
     ]
    }
   ],
   "source": [
    "# clustering with KMeans using umap dimension reduced input data\n",
    "k_means.fit(embedding)\n",
    "umap_clusters = k_means.predict(embedding)"
   ]
  },
  {
   "attachments": {},
   "cell_type": "markdown",
   "metadata": {},
   "source": [
    "Evaluating clusters: UMAP-reduced data has higher Rand index and silhouette score after KMeans clustering when compared to PCA reduced data\n"
   ]
  },
  {
   "cell_type": "code",
   "execution_count": 25,
   "metadata": {},
   "outputs": [
    {
     "name": "stdout",
     "output_type": "stream",
     "text": [
      "Adjusted Rand Index of the Agglomerative Clustering solution: 0.5320168522136183\n",
      "silhouette score of the agglomerative Clustering solution: 0.45191011198749176\n"
     ]
    }
   ],
   "source": [
    "# evaluating Kmeans clustering performance using pca\n",
    "print(\"Adjusted Rand Index of the Agglomerative Clustering solution: {}\"\n",
    ".format(metrics.adjusted_rand_score(Y, pca_clusters)))\n",
    "print(\"silhouette score of the agglomerative Clustering solution: {}\"\n",
    ".format(metrics.silhouette_score(pca_components, pca_clusters)))"
   ]
  },
  {
   "cell_type": "code",
   "execution_count": 26,
   "metadata": {},
   "outputs": [
    {
     "name": "stdout",
     "output_type": "stream",
     "text": [
      "Adjusted Rand Index of the Agglomerative Clustering solution: 0.6353256391428396\n",
      "silhouette score of the agglomerative Clustering solution: 0.584559977054596\n"
     ]
    }
   ],
   "source": [
    "# evaluating Kmeans clustering performance using umap\n",
    "print(\"Adjusted Rand Index of the Agglomerative Clustering solution: {}\"\n",
    ".format(metrics.adjusted_rand_score(Y, umap_clusters)))\n",
    "print(\"silhouette score of the agglomerative Clustering solution: {}\"\n",
    ".format(metrics.silhouette_score(embedding, umap_clusters)))"
   ]
  },
  {
   "cell_type": "code",
   "execution_count": 27,
   "metadata": {},
   "outputs": [],
   "source": [
    "# second clustering algorithm\n",
    "ward_cluster_agg = AgglomerativeClustering(linkage='ward', affinity='euclidean', n_clusters=3)\n",
    "avg_cluster_agg = AgglomerativeClustering(linkage='average', affinity='cosine', n_clusters=3)\n",
    "agg_cluster_complete_agg = AgglomerativeClustering(linkage='complete', affinity='cosine', n_clusters=3)"
   ]
  },
  {
   "cell_type": "code",
   "execution_count": 28,
   "metadata": {},
   "outputs": [
    {
     "name": "stderr",
     "output_type": "stream",
     "text": [
      "c:\\Users\\Kristin\\AppData\\Local\\Programs\\Python\\Python310\\lib\\site-packages\\sklearn\\cluster\\_agglomerative.py:983: FutureWarning: Attribute `affinity` was deprecated in version 1.2 and will be removed in 1.4. Use `metric` instead\n",
      "  warnings.warn(\n",
      "c:\\Users\\Kristin\\AppData\\Local\\Programs\\Python\\Python310\\lib\\site-packages\\sklearn\\cluster\\_agglomerative.py:983: FutureWarning: Attribute `affinity` was deprecated in version 1.2 and will be removed in 1.4. Use `metric` instead\n",
      "  warnings.warn(\n",
      "c:\\Users\\Kristin\\AppData\\Local\\Programs\\Python\\Python310\\lib\\site-packages\\sklearn\\cluster\\_agglomerative.py:983: FutureWarning: Attribute `affinity` was deprecated in version 1.2 and will be removed in 1.4. Use `metric` instead\n",
      "  warnings.warn(\n"
     ]
    }
   ],
   "source": [
    "cluster_ward = ward_cluster_agg.fit_predict(pca_components)\n",
    "cluster_avg = avg_cluster_agg.fit_predict(pca_components)\n",
    "cluster_complete = agg_cluster_complete_agg.fit_predict(pca_components)"
   ]
  },
  {
   "cell_type": "code",
   "execution_count": 29,
   "metadata": {},
   "outputs": [
    {
     "name": "stdout",
     "output_type": "stream",
     "text": [
      "Adjusted Rand Index of agglomerative cluster: 0.29918045461574144\n",
      "The silhouette score of agglomerative cluster: 0.5488071959984524\n",
      "----------------------------------------------\n",
      "Scores for linkage method = average\n",
      "Adjusted Rand Index of agglomerative cluster: 0.28900444645414125\n",
      "the silhouette score of agglomerative cluster: 0.5141798000649634\n",
      "-----------------------------------------------\n",
      "Scores for linkage method complete\n",
      "Adjusted Rand Index of agglomerative cluster: 0.29108853458171463\n",
      "the silhouette score of agglomerative cluster: 0.22392639264130004\n"
     ]
    }
   ],
   "source": [
    "print(\"Adjusted Rand Index of agglomerative cluster: {}\".format(\n",
    "    metrics.adjusted_rand_score(Y, cluster_ward)\n",
    "))\n",
    "print(\"The silhouette score of agglomerative cluster: {}\".format(\n",
    "    metrics.silhouette_score(pca_components, cluster_ward, metric='euclidean')\n",
    "))\n",
    "print('----------------------------------------------')\n",
    "print('Scores for linkage method = average')\n",
    "print(\"Adjusted Rand Index of agglomerative cluster: {}\".format(\n",
    "    metrics.adjusted_rand_score(Y, cluster_avg)\n",
    "))\n",
    "print(\"the silhouette score of agglomerative cluster: {}\".format(\n",
    "    metrics.silhouette_score(pca_components, cluster_avg, metric='euclidean')\n",
    "))\n",
    "\n",
    "print('-----------------------------------------------')\n",
    "print('Scores for linkage method complete')\n",
    "print(\"Adjusted Rand Index of agglomerative cluster: {}\".format(\n",
    "    metrics.adjusted_rand_score(Y, cluster_complete)\n",
    "))\n",
    "print(\"the silhouette score of agglomerative cluster: {}\".format(\n",
    "    metrics.silhouette_score(pca_components, cluster_complete, metric='euclidean')\n",
    "))"
   ]
  },
  {
   "cell_type": "code",
   "execution_count": 30,
   "metadata": {},
   "outputs": [
    {
     "name": "stderr",
     "output_type": "stream",
     "text": [
      "c:\\Users\\Kristin\\AppData\\Local\\Programs\\Python\\Python310\\lib\\site-packages\\sklearn\\cluster\\_agglomerative.py:983: FutureWarning: Attribute `affinity` was deprecated in version 1.2 and will be removed in 1.4. Use `metric` instead\n",
      "  warnings.warn(\n",
      "c:\\Users\\Kristin\\AppData\\Local\\Programs\\Python\\Python310\\lib\\site-packages\\sklearn\\cluster\\_agglomerative.py:983: FutureWarning: Attribute `affinity` was deprecated in version 1.2 and will be removed in 1.4. Use `metric` instead\n",
      "  warnings.warn(\n",
      "c:\\Users\\Kristin\\AppData\\Local\\Programs\\Python\\Python310\\lib\\site-packages\\sklearn\\cluster\\_agglomerative.py:983: FutureWarning: Attribute `affinity` was deprecated in version 1.2 and will be removed in 1.4. Use `metric` instead\n",
      "  warnings.warn(\n"
     ]
    }
   ],
   "source": [
    "# using umap reduced data as input\n",
    "cluster_ward = ward_cluster_agg.fit_predict(embedding)\n",
    "cluster_avg = avg_cluster_agg.fit_predict(embedding)\n",
    "cluster_complete = agg_cluster_complete_agg.fit_predict(embedding)"
   ]
  },
  {
   "cell_type": "code",
   "execution_count": 31,
   "metadata": {},
   "outputs": [
    {
     "name": "stdout",
     "output_type": "stream",
     "text": [
      "Adjusted Rand Index of agglomerative cluster: 0.4144225631468032\n",
      "The silhouette score of agglomerative cluster: 0.5462731719017029\n",
      "----------------------------------------------\n",
      "Scores for linkage method = average\n",
      "Adjusted Rand Index of agglomerative cluster: 0.4144225631468032\n",
      "the silhouette score of agglomerative cluster: 0.5462731719017029\n",
      "-----------------------------------------------\n",
      "Scores for linkage method complete\n",
      "Adjusted Rand Index of agglomerative cluster: 0.4144225631468032\n",
      "the silhouette score of agglomerative cluster: 0.5462731719017029\n"
     ]
    }
   ],
   "source": [
    "print(\"Adjusted Rand Index of agglomerative cluster: {}\".format(\n",
    "    metrics.adjusted_rand_score(Y, cluster_ward)\n",
    "))\n",
    "print(\"The silhouette score of agglomerative cluster: {}\".format(\n",
    "    metrics.silhouette_score(embedding, cluster_ward, metric='euclidean')\n",
    "))\n",
    "print('----------------------------------------------')\n",
    "print('Scores for linkage method = average')\n",
    "print(\"Adjusted Rand Index of agglomerative cluster: {}\".format(\n",
    "    metrics.adjusted_rand_score(Y, cluster_avg)\n",
    "))\n",
    "print(\"the silhouette score of agglomerative cluster: {}\".format(\n",
    "    metrics.silhouette_score(embedding, cluster_avg, metric='euclidean')\n",
    "))\n",
    "\n",
    "print('-----------------------------------------------')\n",
    "print('Scores for linkage method complete')\n",
    "print(\"Adjusted Rand Index of agglomerative cluster: {}\".format(\n",
    "    metrics.adjusted_rand_score(Y, cluster_complete)\n",
    "))\n",
    "print(\"the silhouette score of agglomerative cluster: {}\".format(\n",
    "    metrics.silhouette_score(embedding, cluster_complete, metric='euclidean')\n",
    "))"
   ]
  },
  {
   "cell_type": "code",
   "execution_count": 32,
   "metadata": {},
   "outputs": [],
   "source": [
    "gmm_cluster = GaussianMixture(n_components=5)\n",
    "clusters = gmm_cluster.fit_predict(embedding)"
   ]
  },
  {
   "cell_type": "code",
   "execution_count": 33,
   "metadata": {},
   "outputs": [
    {
     "name": "stdout",
     "output_type": "stream",
     "text": [
      "Adjusted Rand Index of the Agglomerative Clustering solution: 0.6107026973608358\n",
      "silhouette score of the agglomerative Clustering solution: 0.5833166241645813\n"
     ]
    }
   ],
   "source": [
    "# evaluating GMM clustering performance using umap\n",
    "print(\"Adjusted Rand Index of the Agglomerative Clustering solution: {}\"\n",
    ".format(metrics.adjusted_rand_score(Y, clusters)))\n",
    "print(\"silhouette score of the agglomerative Clustering solution: {}\"\n",
    ".format(metrics.silhouette_score(embedding, clusters)))"
   ]
  },
  {
   "attachments": {},
   "cell_type": "markdown",
   "metadata": {},
   "source": [
    "Dimension reduction method: UMAP is the better method based on evaluation metrics and data visualization, as seen from more distinct clusters in the graph.\n",
    "Clustering algorithm: KMeans and Gaussian Mixture Model performed better than hierarchial clustering.\n",
    "The clustering results supports the aging transcriptome theory (i.e., transcriptome changes with age). In addition, resveratrol to have impact on the transcriptome, especially in middle-aged mice, since the gene expression data obtained from middle-aged resveratrol-treated mice oocytes is distinct from that of non-treated mice. On the other hand, resveratrol's impact of old mice is not as clear."
   ]
  }
 ],
 "metadata": {
  "kernelspec": {
   "display_name": "Python 3",
   "language": "python",
   "name": "python3"
  },
  "language_info": {
   "codemirror_mode": {
    "name": "ipython",
    "version": 3
   },
   "file_extension": ".py",
   "mimetype": "text/x-python",
   "name": "python",
   "nbconvert_exporter": "python",
   "pygments_lexer": "ipython3",
   "version": "3.10.5"
  },
  "orig_nbformat": 4
 },
 "nbformat": 4,
 "nbformat_minor": 2
}
